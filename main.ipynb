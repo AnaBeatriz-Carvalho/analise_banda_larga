{
 "cells": [
  {
   "cell_type": "markdown",
   "metadata": {},
   "source": [
    "# Imports\n"
   ]
  },
  {
   "cell_type": "code",
   "execution_count": 28,
   "metadata": {},
   "outputs": [],
   "source": [
    "import pandas as pd\n",
    "from dash import Dash, html, dcc\n",
    "import plotly.express as px\n",
    "from dash.dependencies import Input, Output"
   ]
  },
  {
   "cell_type": "markdown",
   "metadata": {},
   "source": [
    "# Tratando o Dataframe"
   ]
  },
  {
   "cell_type": "code",
   "execution_count": 3,
   "metadata": {},
   "outputs": [],
   "source": [
    "df = pd.read_csv('testeDados.csv')\n",
    "campos_vazios = df.isnull().sum()\n",
    "mediana_acessos = df['acessos'].median()\n",
    "data = df.drop(columns=[\"id_municipio\", \"sigla_uf\", \"cnpj\"])"
   ]
  },
  {
   "cell_type": "code",
   "execution_count": 4,
   "metadata": {},
   "outputs": [],
   "source": [
    "df['empresa'].fillna('outra', inplace=True)\n",
    "df['porte_empresa'].fillna('Pequeno Porte', inplace=True)\n",
    "df['tecnologia'].fillna('outra', inplace=True)\n",
    "df['transmissao'].fillna('outra', inplace=True)\n",
    "df['velocidade'].fillna('512kbps a 2Mbps', inplace=True)\n",
    "df['acessos'].fillna(mediana_acessos, inplace=True)\n",
    "df['produto'].fillna('internet', inplace=True)\n",
    "df = df.dropna()"
   ]
  },
  {
   "cell_type": "code",
   "execution_count": 77,
   "metadata": {},
   "outputs": [],
   "source": [
    "anos = df['ano'].unique()\n",
    "df_media_por_mes = df.groupby(['mes','ano'])['acessos'].mean().reset_index()"
   ]
  },
  {
   "cell_type": "code",
   "execution_count": 86,
   "metadata": {},
   "outputs": [
    {
     "data": {
      "text/html": [
       "\n",
       "        <iframe\n",
       "            width=\"100%\"\n",
       "            height=\"650\"\n",
       "            src=\"http://127.0.0.1:8050/\"\n",
       "            frameborder=\"0\"\n",
       "            allowfullscreen\n",
       "            \n",
       "        ></iframe>\n",
       "        "
      ],
      "text/plain": [
       "<IPython.lib.display.IFrame at 0x183f55316d0>"
      ]
     },
     "metadata": {},
     "output_type": "display_data"
    }
   ],
   "source": [
    "app = Dash(__name__)\n",
    "\n",
    "\n",
    "app.layout = html.Div(children=[\n",
    "    html.H1(children='Análise dos Dados de Banda Larga', style={'font-family': 'Arial, sans-serif', 'text-align': 'center'}),\n",
    "    html.Div(children='''\n",
    "    1- Como está distribuído o número de acessos de acordo com os atributos apresentados?\n",
    "    ''', style={'font-family': 'Arial, sans-serif', 'padding-bottom': '30px'}),\n",
    "    dcc.Dropdown(\n",
    "        id='ano-dropdown',\n",
    "        options=[{'label': ano, 'value': ano} for ano in anos],  # Criando as opções do menu suspenso\n",
    "        value=anos[0],\n",
    "        style={'font-family': 'Arial, sans-serif'}\n",
    "    ),\n",
    "        html.Div(children=''' ''', style={'padding-bottom': '30px'}),\n",
    "\n",
    "    dcc.Graph(\n",
    "        id='graph-content'\n",
    "    )\n",
    "])\n",
    "\n",
    "@app.callback(\n",
    "    Output('graph-content', 'figure'),\n",
    "    [Input('ano-dropdown', 'value')]\n",
    ")\n",
    "def update_graph(selected_ano):\n",
    "    # Filtrar o DataFrame pelo ano selecionado\n",
    "    df_ano_selecionado = df_media_por_mes[df_media_por_mes['ano'] == selected_ano]\n",
    "    \n",
    "    # Criar o gráfico atualizado (gráfico de barras)\n",
    "    fig_ano_mes = px.bar(df_ano_selecionado, x='mes', y='acessos', title=f'Média de Acessos por Mês no Ano de: {selected_ano}', barmode='group')\n",
    "    \n",
    "    return fig_ano_mes\n",
    "\n",
    "if __name__ == '__main__':\n",
    "    app.run_server(debug=True)"
   ]
  },
  {
   "cell_type": "code",
   "execution_count": null,
   "metadata": {},
   "outputs": [],
   "source": []
  }
 ],
 "metadata": {
  "kernelspec": {
   "display_name": "myenv",
   "language": "python",
   "name": "python3"
  },
  "language_info": {
   "codemirror_mode": {
    "name": "ipython",
    "version": 3
   },
   "file_extension": ".py",
   "mimetype": "text/x-python",
   "name": "python",
   "nbconvert_exporter": "python",
   "pygments_lexer": "ipython3",
   "version": "3.11.0"
  },
  "orig_nbformat": 4
 },
 "nbformat": 4,
 "nbformat_minor": 2
}
